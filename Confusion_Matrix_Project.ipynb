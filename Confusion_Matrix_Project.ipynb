{
  "nbformat": 4,
  "nbformat_minor": 0,
  "metadata": {
    "colab": {
      "name": "Confusion Matrix Project",
      "provenance": [],
      "collapsed_sections": [],
      "authorship_tag": "ABX9TyMd2JJRyXLxwhpI2tXc2itI",
      "include_colab_link": true
    },
    "kernelspec": {
      "name": "python3",
      "display_name": "Python 3"
    },
    "language_info": {
      "name": "python"
    }
  },
  "cells": [
    {
      "cell_type": "markdown",
      "metadata": {
        "id": "view-in-github",
        "colab_type": "text"
      },
      "source": [
        "<a href=\"https://colab.research.google.com/github/HrishavSaha/Confusion-Matrix-Project/blob/main/Confusion_Matrix_Project.ipynb\" target=\"_parent\"><img src=\"https://colab.research.google.com/assets/colab-badge.svg\" alt=\"Open In Colab\"/></a>"
      ]
    },
    {
      "cell_type": "code",
      "execution_count": null,
      "metadata": {
        "id": "YmWdJyGjTwdH"
      },
      "outputs": [],
      "source": [
        "from google.colab import files\n",
        "files.upload()"
      ]
    },
    {
      "cell_type": "code",
      "source": [
        "import pandas as pd\n",
        "import seaborn as sb\n",
        "import matplotlib.pyplot as plt\n",
        "import random\n",
        "from sklearn.linear_model import LogisticRegression\n",
        "from sklearn.model_selection import train_test_split\n",
        "from sklearn.preprocessing import StandardScaler\n",
        "import numpy as np\n",
        "from sklearn.metrics import accuracy_score\n",
        "from sklearn.metrics import confusion_matrix"
      ],
      "metadata": {
        "id": "h7IENSL9dSt9"
      },
      "execution_count": 8,
      "outputs": []
    },
    {
      "cell_type": "code",
      "source": [
        "df = pd.read_csv('BankNote_Authentication.csv')\n",
        "variance = df['variance']\n",
        "actual = df['class']"
      ],
      "metadata": {
        "id": "wCKn3k8cezLc"
      },
      "execution_count": 5,
      "outputs": []
    },
    {
      "cell_type": "code",
      "source": [
        "variance_train, variance_test, actual_train, actual_test = train_test_split(variance,actual,test_size=0.25,random_state=0)"
      ],
      "metadata": {
        "id": "ueQ8MenYgaZg"
      },
      "execution_count": 6,
      "outputs": []
    },
    {
      "cell_type": "code",
      "source": [
        "#Data Prep\n",
        "X = np.reshape(variance_train.ravel(), (len(variance_train), 1))\n",
        "Y = np.reshape(actual_train.ravel(), (len(actual_train), 1))\n",
        "#Calculating best-fit Linear Regression values\n",
        "lr = LogisticRegression().fit(X,Y)"
      ],
      "metadata": {
        "colab": {
          "base_uri": "https://localhost:8080/"
        },
        "id": "0_qYx7lAiUYA",
        "outputId": "0e84105c-7051-4418-d33e-8c2c57af0e52"
      },
      "execution_count": 7,
      "outputs": [
        {
          "output_type": "stream",
          "name": "stderr",
          "text": [
            "/usr/local/lib/python3.7/dist-packages/sklearn/utils/validation.py:993: DataConversionWarning: A column-vector y was passed when a 1d array was expected. Please change the shape of y to (n_samples, ), for example using ravel().\n",
            "  y = column_or_1d(y, warn=True)\n"
          ]
        }
      ]
    },
    {
      "cell_type": "code",
      "source": [
        "X1 = np.reshape(variance_test.ravel(), (-1, 1))\n",
        "Y1 = np.reshape(actual_test.ravel(), (len(actual_test), 1))\n",
        "\n",
        "pred = lr.predict(X1)\n",
        "accuracy = accuracy_score(actual_test, pred)\n",
        "print(\"Model Accuracy:\", accuracy * 100, \"%\")"
      ],
      "metadata": {
        "colab": {
          "base_uri": "https://localhost:8080/"
        },
        "id": "IjrvfCvoir93",
        "outputId": "b97b098d-8911-4691-890f-2066971171a7"
      },
      "execution_count": 10,
      "outputs": [
        {
          "output_type": "stream",
          "name": "stdout",
          "text": [
            "Model Accuracy: 83.6734693877551 %\n"
          ]
        }
      ]
    },
    {
      "cell_type": "code",
      "source": [
        "pred_val = []\n",
        "for i in pred:\n",
        "  if i == 0:\n",
        "    pred_val.append('Authorized')\n",
        "  else:\n",
        "    pred_val.append('Forged')\n",
        "\n",
        "act_val = []\n",
        "for i in Y1:\n",
        "  if i == 0:\n",
        "    act_val.append('Authorized')\n",
        "  else:\n",
        "    act_val.append('Forged')"
      ],
      "metadata": {
        "id": "FuF-Ulc4ok4J"
      },
      "execution_count": 11,
      "outputs": []
    },
    {
      "cell_type": "code",
      "source": [
        "labels = ['Forged', 'Authorized']\n",
        "cm = confusion_matrix(act_val, pred_val)\n",
        "am = plt.subplot()\n",
        "sb.heatmap(cm, annot=True)\n",
        "am.set_xlabel('Predicted')\n",
        "am.set_ylabel('Actual')\n",
        "am.set_title('Confusion Matrix')\n",
        "am.yaxis.set_ticklabels(labels)\n",
        "am.xaxis.set_ticklabels(labels)\n",
        "\n",
        "acc = accuracy_score(act_val, pred_val)\n",
        "print('Model Accuracy:', acc*100, '%')"
      ],
      "metadata": {
        "colab": {
          "base_uri": "https://localhost:8080/",
          "height": 312
        },
        "id": "-RLsS4uSo7Lx",
        "outputId": "e62e5d49-f9d8-4c36-d6c1-f833c4d39a6e"
      },
      "execution_count": 13,
      "outputs": [
        {
          "output_type": "stream",
          "name": "stdout",
          "text": [
            "Model Accuracy: 83.6734693877551 %\n"
          ]
        },
        {
          "output_type": "display_data",
          "data": {
            "text/plain": [
              "<Figure size 432x288 with 2 Axes>"
            ],
            "image/png": "[encoded data removed]"
          },
          "metadata": {
            "needs_background": "light"
          }
        }
      ]
    }
  ]
}